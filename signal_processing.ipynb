{
 "cells": [
  {
   "cell_type": "code",
   "execution_count": 161,
   "metadata": {},
   "outputs": [],
   "source": [
    "import numpy as np\n",
    "import pandas as pd \n",
    "import matplotlib.pyplot as plt\n",
    "import math\n",
    "from numpy.fft import fft, ifft\n",
    "import pywt "
   ]
  },
  {
   "cell_type": "code",
   "execution_count": 162,
   "metadata": {},
   "outputs": [],
   "source": [
    "btc_hist_data = pd.read_excel(\"1\\\\Bitcoin Historical Data.xlsx\").replace([',','%'],'')\n",
    "btc_hist_data = btc_hist_data.iloc[::-1]\n",
    "\n",
    "Date = btc_hist_data[\"Date\"]\n",
    "btc_close_price = btc_hist_data['Price']\n"
   ]
  },
  {
   "cell_type": "markdown",
   "metadata": {},
   "source": [
    "median / ma / ema / wma / conv / fourier / laplas / wavelet /  modulation/demodulation / correlation / cepstrum"
   ]
  },
  {
   "cell_type": "markdown",
   "metadata": {},
   "source": [
    "Moving Median - The mid point value"
   ]
  },
  {
   "cell_type": "code",
   "execution_count": 163,
   "metadata": {},
   "outputs": [],
   "source": [
    "def mm(df, period = 14 ):\n",
    "    MM = df.rolling(period).median()\n",
    "    return MM\n"
   ]
  },
  {
   "cell_type": "markdown",
   "metadata": {},
   "source": [
    "Moving Average"
   ]
  },
  {
   "cell_type": "code",
   "execution_count": 164,
   "metadata": {},
   "outputs": [],
   "source": [
    "def ma(df, period = 14 ):\n",
    "    MA = df.rolling(period).mean()\n",
    "    return MA"
   ]
  },
  {
   "cell_type": "markdown",
   "metadata": {},
   "source": [
    "Exponential Moving Average "
   ]
  },
  {
   "cell_type": "code",
   "execution_count": 165,
   "metadata": {},
   "outputs": [],
   "source": [
    "def ema(df, period = 14 ):\n",
    "    EMA = df.ewm(period ,adjust = False).mean()\n",
    "    return EMA"
   ]
  },
  {
   "cell_type": "markdown",
   "metadata": {},
   "source": [
    "Weigthed Moving Average"
   ]
  },
  {
   "cell_type": "code",
   "execution_count": 166,
   "metadata": {},
   "outputs": [],
   "source": [
    "def wma(df ,period = 14):\n",
    "    \n",
    "    return WMA"
   ]
  },
  {
   "cell_type": "markdown",
   "metadata": {},
   "source": [
    "Fourier "
   ]
  },
  {
   "cell_type": "code",
   "execution_count": 167,
   "metadata": {},
   "outputs": [],
   "source": [
    "def fourier(df , sampling_rate = 4096, plot_on = True, one_side = True, trim = True , trim_frequency = 250):\n",
    "    fft_df = fft(df)\n",
    "    N = len(fft_df)\n",
    "    n = np.arange(N)\n",
    "    \n",
    "    T = N/sampling_rate\n",
    "    freq = n/T  \n",
    "    n_oneside = N//2\n",
    "    # get the one side frequency\n",
    "    f_oneside = freq[:n_oneside]\n",
    "    if plot_on:\n",
    "        plt.figure(figsize = (21, 6))\n",
    "        if one_side:\n",
    "            plt.subplot(121)\n",
    "            plt.stem(f_oneside, np.abs(fft_df[:n_oneside]), 'b', \\\n",
    "            markerfmt=\" \", basefmt=\"-b\")\n",
    "            plt.xlabel('Freq (Hz)')\n",
    "            plt.ylabel('FFT Amplitude |X(freq)|')\n",
    "        else:\n",
    "            plt.subplot(121)\n",
    "            plt.stem(freq, np.abs(fft_df), 'b', \\\n",
    "            markerfmt=\" \", basefmt=\"-b\")\n",
    "            plt.xlabel('Freq (Hz)')\n",
    "            plt.ylabel('FFT Amplitude |X(freq)|')\n",
    "        if trim:\n",
    "            plt.subplot(122)\n",
    "            plt.plot(ifft((fft_df[:trim_frequency])), 'r')\n",
    "            plt.xlabel('Time (s)')\n",
    "            plt.ylabel('Amplitude')\n",
    "        plt.tight_layout()\n",
    "        plt.show()\n",
    "    return fft_df "
   ]
  },
  {
   "cell_type": "markdown",
   "metadata": {},
   "source": [
    "Wavelet Transform  (DWT)"
   ]
  },
  {
   "cell_type": "code",
   "execution_count": 168,
   "metadata": {},
   "outputs": [],
   "source": [
    "#['Haar', 'Daubechies', 'Symlets', 'Coiflets', 'Biorthogonal', 'Reverse biorthogonal', 'Discrete Meyer (FIR Approximation)', 'Gaussian', 'Mexican hat wavelet', 'Morlet wavelet', 'Complex Gaussian wavelets', 'Shannon wavelets', 'Frequency B-Spline wavelets', 'Complex Morlet wavelets']\n",
    "#['haar', 'db', 'sym', 'coif', 'bior', 'rbio', 'dmey', 'gaus', 'mexh', 'morl', 'cgau', 'shan', 'fbsp', 'cmor']\n",
    "def wavelet_single(df , wavelet = 'db1' , mode = 'symmetric'):\n",
    "    (cA, cD) = pywt.dwt(df,wavelet, mode= mode)\n",
    "    print('To ignore some featureuse \"coeffs[9] = np.zeros_like(coeffs[9])\"')\n",
    "    return cA , cD\n",
    "\n",
    "def wavelet_multi(df , wavelet = 'db1' , mode = 'symmetric'):\n",
    "    coeffs = pywt.wavedec(btc_close_price,'sym4')\n",
    "    print('To ignore some featureuse \"coeffs[9] = np.zeros_like(coeffs[9])\"')\n",
    "    return coeffs\n"
   ]
  },
  {
   "cell_type": "markdown",
   "metadata": {},
   "source": [
    "Inverse Wavelet Transform  (iDWT)\n"
   ]
  },
  {
   "cell_type": "code",
   "execution_count": 169,
   "metadata": {},
   "outputs": [],
   "source": [
    "def iwavelet_multi(coeffs , wavelet = 'db1' , mode = 'symmetric'):\n",
    "    sig = pywt.waverec(coeffs,wavelet,mode= mode)\n",
    "    \n",
    "    return sig\n",
    "def iwavelet_single(ca , cd , wavelet = 'db1' , mode = 'symmetric'):\n",
    "    sig =pywt.idwt(ca,cd,wavelet,mode=mode)\n",
    "    return sig"
   ]
  }
 ],
 "metadata": {
  "kernelspec": {
   "display_name": "Python 3",
   "language": "python",
   "name": "python3"
  },
  "language_info": {
   "codemirror_mode": {
    "name": "ipython",
    "version": 3
   },
   "file_extension": ".py",
   "mimetype": "text/x-python",
   "name": "python",
   "nbconvert_exporter": "python",
   "pygments_lexer": "ipython3",
   "version": "3.11.5"
  }
 },
 "nbformat": 4,
 "nbformat_minor": 2
}
