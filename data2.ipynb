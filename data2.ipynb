{
 "cells": [
  {
   "cell_type": "code",
   "execution_count": 1,
   "metadata": {},
   "outputs": [],
   "source": [
    "import numpy as np\n",
    "import pandas as pd \n",
    "import matplotlib.pyplot as plt"
   ]
  },
  {
   "cell_type": "code",
   "execution_count": 2,
   "metadata": {},
   "outputs": [],
   "source": [
    "btc_hist_data = pd.read_csv(\"1\\Bitcoin Historical Data.csv\")\n",
    "\n",
    "Date = btc_hist_data.loc[:,\"Date\"].array\n",
    "btc_close_price = btc_hist_data.loc[:,\"Price\"].array\n",
    "btc_low_price = btc_hist_data.loc[:,\"Low\"].array\n",
    "btc_high_price = btc_hist_data.loc[:,\"High\"].array\n",
    "btc_open_price = btc_hist_data.loc[:,\"Open\"].array\n",
    "btc_vol_price = btc_hist_data.loc[:,\"Vol.\"].array\n",
    "btc_chg_price = btc_hist_data.loc[:,\"Change %\"].array\n",
    "#print(btc_chg_price)\n"
   ]
  },
  {
   "cell_type": "code",
   "execution_count": 4,
   "metadata": {},
   "outputs": [
    {
     "name": "stdout",
     "output_type": "stream",
     "text": [
      "<NumpyExtensionArray>\n",
      "['27,890.5', '27,961.1', '27,936.9', '27,410.3', '27,790.9', '27,428.4',\n",
      " '27,505.3', '27,974.5', '26,962.7', '26,909.8',\n",
      " ...\n",
      "      '5.6',      '6.7',      '7.0',      '6.8',      '6.4',      '6.8',\n",
      "      '6.9',      '6.4',      '6.3',      '7.1']\n",
      "Length: 4292, dtype: object\n"
     ]
    }
   ],
   "source": [
    "print(btc_close_price)"
   ]
  }
 ],
 "metadata": {
  "kernelspec": {
   "display_name": "Python 3",
   "language": "python",
   "name": "python3"
  },
  "language_info": {
   "codemirror_mode": {
    "name": "ipython",
    "version": 3
   },
   "file_extension": ".py",
   "mimetype": "text/x-python",
   "name": "python",
   "nbconvert_exporter": "python",
   "pygments_lexer": "ipython3",
   "version": "3.11.5"
  }
 },
 "nbformat": 4,
 "nbformat_minor": 2
}
