{
 "cells": [
  {
   "cell_type": "code",
   "execution_count": 61,
   "metadata": {},
   "outputs": [],
   "source": [
    "import numpy as np\n",
    "import pandas as pd \n",
    "import matplotlib.pyplot as plt  "
   ]
  },
  {
   "cell_type": "code",
   "execution_count": null,
   "metadata": {},
   "outputs": [],
   "source": [
    "def stochastic(df = btc_close_price , period  = 14 , K_smoothing = 4, D_smoothing = 4):\n",
    "    min_values = df.rolling(period).min()\n",
    "    max_values = df.rolling(period).max()  \n",
    "    K = ((btc_close_price - min_values )/(max_values - min_values)) * 100\n",
    "    K = K.rolling(K_smoothing).mean()\n",
    "    D = K.rolling(D_smoothing).mean()\n",
    "    return K,D"
   ]
  }
 ],
 "metadata": {
  "kernelspec": {
   "display_name": "Python 3",
   "language": "python",
   "name": "python3"
  },
  "language_info": {
   "codemirror_mode": {
    "name": "ipython",
    "version": 3
   },
   "file_extension": ".py",
   "mimetype": "text/x-python",
   "name": "python",
   "nbconvert_exporter": "python",
   "pygments_lexer": "ipython3",
   "version": "3.12.0"
  }
 },
 "nbformat": 4,
 "nbformat_minor": 2
}
