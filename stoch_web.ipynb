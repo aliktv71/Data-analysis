{
 "cells": [
  {
   "cell_type": "code",
   "execution_count": 4,
   "metadata": {},
   "outputs": [],
   "source": [
    "import matplotlib.pyplot as plt"
   ]
  },
  {
   "cell_type": "code",
   "execution_count": 3,
   "metadata": {},
   "outputs": [],
   "source": [
    "def get_stochastic_oscillator(df, period=14):\n",
    "    for i in range(len(df)):\n",
    "        low = df.iloc[i]['Price']\n",
    "        high = df.iloc[i]['Price']\n",
    "        if i >= period:\n",
    "            n = 0\n",
    "            while n < period:\n",
    "                if df.iloc[i-n]['Price'] >= high:\n",
    "                    high = df.iloc[i-n]['Price']\n",
    "                elif df.iloc[i-n]['Price'] < low:\n",
    "                    low = df.iloc[i-n]['Price']\n",
    "                n += 1\n",
    "            df.at[i, 'best_low'] = low\n",
    "            df.at[i, 'best_high'] = high\n",
    "            df.at[i, 'fast_k'] = 100*((df.iloc[i]['Price']-df.iloc[i]['best_low'])/(df.iloc[i]['best_high']-df.iloc[i]['best_low']))\n",
    "\n",
    "    df['fast_d'] = df['fast_k'].rolling(3).mean().round(2)\n",
    "    df['slow_k'] = df['fast_d']\n",
    "    df['slow_d'] = df['slow_k'].rolling(3).mean().round(2)\n",
    "\n",
    "    return df"
   ]
  },
  {
   "cell_type": "code",
   "execution_count": null,
   "metadata": {},
   "outputs": [],
   "source": [
    "def plot_chart(ticker, df):\n",
    "    plt.figure(figsize=[16, 8])\n",
    "    plt.style.use('default')\n",
    "    fig, ax = plt.subplots(figsize=(5, 1))\n",
    "\n",
    "    plt.plot(df['Date'], df['fast_k'], color='orange', linewidth=.75)\n",
    "    plt.plot(df['Date'], df['fast_d'], color='grey', linewidth=.75)\n",
    "    plt.plot(df['Date'], df['slow_d'], color='green', linewidth=.75)\n",
    "\n",
    "    ax.grid(True)\n",
    "    ax.set_ylabel(r'Price [\\$]')\n",
    "    ax.set_title(ticker, loc='left', y=0.85, x=0.02, fontsize='medium')\n",
    "    ax.set_ylim(0, 100)\n",
    "    ax.axhline(y=80, color='b', linestyle='-')\n",
    "    ax.axhline(y=20, color='r', linestyle='-')\n",
    "    plt.show()"
   ]
  }
 ],
 "metadata": {
  "kernelspec": {
   "display_name": "Python 3",
   "language": "python",
   "name": "python3"
  },
  "language_info": {
   "codemirror_mode": {
    "name": "ipython",
    "version": 3
   },
   "file_extension": ".py",
   "mimetype": "text/x-python",
   "name": "python",
   "nbconvert_exporter": "python",
   "pygments_lexer": "ipython3",
   "version": "3.12.0"
  }
 },
 "nbformat": 4,
 "nbformat_minor": 2
}
