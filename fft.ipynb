{
 "cells": [
  {
   "cell_type": "code",
   "execution_count": 7,
   "metadata": {},
   "outputs": [],
   "source": [
    "import numpy as np\n",
    "import pandas as pd \n",
    "import matplotlib.pyplot as plt\n",
    "from numpy.fft import fft, ifft"
   ]
  },
  {
   "cell_type": "markdown",
   "metadata": {},
   "source": [
    "fft"
   ]
  },
  {
   "cell_type": "code",
   "execution_count": 8,
   "metadata": {},
   "outputs": [],
   "source": [
    "def fourier(df ):\n",
    "    fft_df = fft(df)\n",
    "     \n",
    "    return fft_df "
   ]
  },
  {
   "cell_type": "code",
   "execution_count": 9,
   "metadata": {},
   "outputs": [],
   "source": [
    "def plot_fft_oneside(fft_df , sampling_rate = 4096 ):\n",
    "    N = len(fft_df)\n",
    "    n = np.arange(N)\n",
    "    \n",
    "    T = N/sampling_rate\n",
    "    freq = n/T  \n",
    "    n_oneside = N//2\n",
    "    # get the one side frequency\n",
    "    f_oneside = freq[:n_oneside]\n",
    "\n",
    "    plt.figure(figsize = (21, 6))\n",
    "    plt.subplot(121)\n",
    "\n",
    "    plt.stem(f_oneside[:100], np.abs(fft_df[:100]), 'b', \\\n",
    "                markerfmt=\" \", basefmt=\"-b\")\n",
    "    plt.xlabel('Freq (Hz)')\n",
    "    plt.ylabel('FFT Amplitude |X(freq)|')\n",
    "\n",
    "    plt.subplot(122)\n",
    "    plt.plot(ifft((fft_df[:40])), 'r')\n",
    "    plt.xlabel('Time (s)')\n",
    "    plt.ylabel('Amplitude')\n",
    "    plt.tight_layout()\n",
    "    plt.show()"
   ]
  },
  {
   "cell_type": "code",
   "execution_count": null,
   "metadata": {},
   "outputs": [],
   "source": []
  }
 ],
 "metadata": {
  "kernelspec": {
   "display_name": "Python 3",
   "language": "python",
   "name": "python3"
  },
  "language_info": {
   "codemirror_mode": {
    "name": "ipython",
    "version": 3
   },
   "file_extension": ".py",
   "mimetype": "text/x-python",
   "name": "python",
   "nbconvert_exporter": "python",
   "pygments_lexer": "ipython3",
   "version": "3.11.5"
  }
 },
 "nbformat": 4,
 "nbformat_minor": 2
}
