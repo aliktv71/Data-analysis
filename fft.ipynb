{
 "cells": [
  {
   "cell_type": "code",
   "execution_count": 35,
   "metadata": {},
   "outputs": [],
   "source": [
    "import numpy as np\n",
    "import pandas as pd \n",
    "import matplotlib.pyplot as plt\n",
    "from numpy.fft import fft, ifft"
   ]
  },
  {
   "cell_type": "markdown",
   "metadata": {},
   "source": [
    "fft"
   ]
  },
  {
   "cell_type": "code",
   "execution_count": null,
   "metadata": {},
   "outputs": [],
   "source": [
    "def fourier(df ):\n",
    "    fft_df = fft(df)\n",
    "    freq = n/T   \n",
    "    return fft_df , freq"
   ]
  },
  {
   "cell_type": "code",
   "execution_count": 45,
   "metadata": {},
   "outputs": [],
   "source": [
    "def polt_fft_oneside(fft_df,freq ,x_value, sampling_rate = 4096 ):\n",
    "    N = len(fft_df)\n",
    "    n = np.arange(N)\n",
    "    T = N/sampling_rate\n",
    "    n_oneside = N//2\n",
    "    # get the one side frequency\n",
    "    f_oneside = freq[:n_oneside]\n",
    "\n",
    "    plt.figure(figsize = (21, 6))\n",
    "    plt.subplot(121)\n",
    "\n",
    "    plt.stem(f_oneside[:100], np.abs(fft_df[:100]), 'b', \\\n",
    "                markerfmt=\" \", basefmt=\"-b\")\n",
    "    plt.xlabel('Freq (Hz)')\n",
    "    plt.ylabel('FFT Amplitude |X(freq)|')\n",
    "\n",
    "    plt.subplot(122)\n",
    "    plt.plot(ifft((fft_df[:100])), 'r')\n",
    "    plt.xlabel('Time (s)')\n",
    "    plt.ylabel('Amplitude')\n",
    "    plt.tight_layout()\n",
    "    plt.show()"
   ]
  },
  {
   "cell_type": "code",
   "execution_count": null,
   "metadata": {},
   "outputs": [],
   "source": []
  }
 ],
 "metadata": {
  "kernelspec": {
   "display_name": "Python 3",
   "language": "python",
   "name": "python3"
  },
  "language_info": {
   "codemirror_mode": {
    "name": "ipython",
    "version": 3
   },
   "file_extension": ".py",
   "mimetype": "text/x-python",
   "name": "python",
   "nbconvert_exporter": "python",
   "pygments_lexer": "ipython3",
   "version": "3.12.0"
  }
 },
 "nbformat": 4,
 "nbformat_minor": 2
}
